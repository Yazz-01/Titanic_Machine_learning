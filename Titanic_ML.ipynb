{
 "cells": [
  {
   "cell_type": "markdown",
   "id": "subjective-wireless",
   "metadata": {},
   "source": [
    "## Encoding Features for Machine Learning using df_clean"
   ]
  },
  {
   "cell_type": "code",
   "execution_count": 5,
   "id": "junior-singapore",
   "metadata": {},
   "outputs": [],
   "source": [
    "import pandas as pd\n",
    "import numpy as np\n",
    " "
   ]
  },
  {
   "cell_type": "code",
   "execution_count": null,
   "id": "occupational-leeds",
   "metadata": {},
   "outputs": [],
   "source": [
    "!pip install psycopg2\n"
   ]
  },
  {
   "cell_type": "code",
   "execution_count": 11,
   "id": "inside-pulse",
   "metadata": {
    "scrolled": true
   },
   "outputs": [],
   "source": [
    "gender_to_load= (\"resources/train.csv\")\n",
    "gender_data= pd.read_csv(gender_to_load)\n",
    "gender_data.head(5)\n",
    "\n",
    "test_to_load= (\"resources/test.csv\")\n",
    "test_data= pd.read_csv(test_to_load)\n",
    "\n",
    "train_to_load= (\"resources/train.csv\")\n",
    "train_data= pd.read_csv(train_to_load)"
   ]
  },
  {
   "cell_type": "code",
   "execution_count": null,
   "id": "cheap-blind",
   "metadata": {},
   "outputs": [],
   "source": []
  },
  {
   "cell_type": "code",
   "execution_count": null,
   "id": "composite-trinity",
   "metadata": {},
   "outputs": [],
   "source": [
    "# Creating new dataframes for ML process\n",
    "\n",
    "df_clean=train_data \n",
    "df_clean.head(5)"
   ]
  }
 ],
 "metadata": {
  "kernelspec": {
   "display_name": "Python 3",
   "language": "python",
   "name": "python3"
  },
  "language_info": {
   "codemirror_mode": {
    "name": "ipython",
    "version": 3
   },
   "file_extension": ".py",
   "mimetype": "text/x-python",
   "name": "python",
   "nbconvert_exporter": "python",
   "pygments_lexer": "ipython3",
   "version": "3.8.5"
  }
 },
 "nbformat": 4,
 "nbformat_minor": 5
}
